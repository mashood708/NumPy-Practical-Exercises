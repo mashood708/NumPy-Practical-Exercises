{
  "cells": [
    {
      "cell_type": "markdown",
      "metadata": {
        "id": "YmwKgUrAkbfG"
      },
      "source": [
        "# Numpy Basics Exercises\n",
        "\n",
        "Please complete the following exercises **using numpy only**."
      ]
    },
    {
      "cell_type": "markdown",
      "metadata": {
        "id": "vpo3azRubEMA"
      },
      "source": [
        "# Array Functions\n",
        "1.Arange([start,] stop[, step],dtype=None)\n",
        "Nearly identical to Python’s range(). Creates an array of values in the range [start,stop) with the specified step value. Allows non-integer values for start, stop, and step. Default dtype is derived from the start, stop, and step values. create an array with arange."
      ]
    },
    {
      "cell_type": "code",
      "execution_count": null,
      "metadata": {
        "id": "31t0LaJ3bEMB",
        "colab": {
          "base_uri": "https://localhost:8080/"
        },
        "outputId": "aae9d6af-6f50-4f70-8006-590e56afb3ee"
      },
      "outputs": [
        {
          "output_type": "stream",
          "name": "stdout",
          "text": [
            "[[ 1  2  3  4  5]\n",
            " [ 6  7  8  9 10]\n",
            " [11 12 13 14 15]\n",
            " [16 17 18 19 20]]\n"
          ]
        }
      ],
      "source": [
        "import numpy as np\n",
        "arr=np.arange(1,21,1).reshape(4,5)\n",
        "print(arr)\n"
      ]
    },
    {
      "cell_type": "markdown",
      "metadata": {
        "id": "MfAFU0VibEMD"
      },
      "source": [
        "2.Create arrays with ONES, ZEROS, shape is a number or sequence specifying the dimensions of the array. If dtype is not specified, it defaults to float64."
      ]
    },
    {
      "cell_type": "code",
      "execution_count": null,
      "metadata": {
        "id": "8ebuyMSkbEMD",
        "colab": {
          "base_uri": "https://localhost:8080/"
        },
        "outputId": "712413ff-1a3b-4d00-f091-9cd9c71d26cf"
      },
      "outputs": [
        {
          "output_type": "stream",
          "name": "stdout",
          "text": [
            "[[1. 1. 1.]\n",
            " [1. 1. 1.]\n",
            " [1. 1. 1.]]\n",
            "[[0. 0. 0. 0.]\n",
            " [0. 0. 0. 0.]]\n"
          ]
        }
      ],
      "source": [
        "ones_array=np.ones((3,3))\n",
        "print(ones_array)\n",
        "zeros_array=np.zeros((2,4))\n",
        "print(zeros_array)"
      ]
    },
    {
      "cell_type": "markdown",
      "metadata": {
        "id": "2EiFTfIibEMD"
      },
      "source": [
        "3.Generate an n by n identity array. The default dtype is float64."
      ]
    },
    {
      "cell_type": "markdown",
      "metadata": {
        "id": "VpIlaZHJbEME"
      },
      "source": [
        "4.use empty, full, and fill, max, min, std, mean, var, argmax, linspace"
      ]
    },
    {
      "cell_type": "code",
      "execution_count": null,
      "metadata": {
        "id": "W328-ggzbEMD",
        "colab": {
          "base_uri": "https://localhost:8080/"
        },
        "outputId": "a4dbeced-4795-43bf-da7c-57f8c150038a"
      },
      "outputs": [
        {
          "output_type": "execute_result",
          "data": {
            "text/plain": [
              "array([[1., 0., 0., 0., 0.],\n",
              "       [0., 1., 0., 0., 0.],\n",
              "       [0., 0., 1., 0., 0.],\n",
              "       [0., 0., 0., 1., 0.],\n",
              "       [0., 0., 0., 0., 1.]])"
            ]
          },
          "metadata": {},
          "execution_count": 14
        }
      ],
      "source": [
        "# code here (you may create an array of your choice of size)\n",
        "b=np.identity(5)\n",
        "b"
      ]
    },
    {
      "cell_type": "code",
      "execution_count": null,
      "metadata": {
        "id": "ze1PCT8xbEME",
        "colab": {
          "base_uri": "https://localhost:8080/"
        },
        "outputId": "ac1a8e94-ea02-4e45-f99a-8b5afa779235"
      },
      "outputs": [
        {
          "output_type": "stream",
          "name": "stdout",
          "text": [
            "[3.5e-323 3.5e-323 3.5e-323 3.5e-323 3.5e-323]\n",
            "[7 7 7 7 7]\n",
            "20\n",
            "1\n",
            "5.766281297335398\n"
          ]
        }
      ],
      "source": [
        "# code here (use the array createed in Question 1 for this)\n",
        "empty=np.empty(5)\n",
        "print(empty)\n",
        "full=np.full(5,7)\n",
        "print(full)\n",
        "max=arr.max()\n",
        "print(max)\n",
        "min=arr.min()\n",
        "print(min)\n",
        "std=arr.std()\n",
        "print(std)\n",
        "mean=arr.mean()\n",
        "print(mean)\n",
        "var=arr.var()\n",
        "print(var)\n",
        "argmax=arr.argmax()\n",
        "print(argmax)\n",
        "linspace=np.linespace(0,1,5)\n",
        "print(linspace)"
      ]
    },
    {
      "cell_type": "markdown",
      "metadata": {
        "id": "N8D2KaVEbEME"
      },
      "source": [
        "5. Create the array below with a = np.arange(-15, 15).reshape(5, 6) ** 2\n",
        "\n",
        "  Rule 1:\n",
        "  Operations between multiple array objects are first checked for proper shape match.\n",
        "\n",
        "  Rule 2:\n",
        "  Mathematical operators (+ - * / exp, log, ...) apply element by element, on the values.\n",
        "\n",
        "  Rule 3:\n",
        "  Reduction operations (mean, std, skew, kurt, sum, prod, ...) apply to the whole array, unless an axis is specified.\n",
        "\n",
        "  Rule 4:\n",
        "  Missing values propagate unless explicitly ignored (nanmean, nansum, ...)."
      ]
    },
    {
      "cell_type": "code",
      "execution_count": null,
      "metadata": {
        "id": "SfR3QRNXbEME",
        "colab": {
          "base_uri": "https://localhost:8080/"
        },
        "outputId": "b90278d0-969a-4760-9bf0-fa334f2992bf"
      },
      "outputs": [
        {
          "output_type": "stream",
          "name": "stdout",
          "text": [
            "[[225 196 169 144 121 100]\n",
            " [ 81  64  49  36  25  16]\n",
            " [  9   4   1   0   1   4]\n",
            " [  9  16  25  36  49  64]\n",
            " [ 81 100 121 144 169 196]]\n"
          ]
        }
      ],
      "source": [
        "# code here and try to figure out different functions on your own (as stated in Rule 3, also figure out how to propogate missing values as stated in Rule 4)\n",
        "a=np.arange(-15,15).reshape(5,6) ** 2\n",
        "print(a)"
      ]
    },
    {
      "cell_type": "code",
      "source": [
        "#RULE1\n",
        "b=np.full(a.shape,3)\n",
        "#rule2\n",
        "print(a+b=/n')\n"
      ],
      "metadata": {
        "id": "9VrE6zbn1Z7g"
      },
      "execution_count": null,
      "outputs": []
    },
    {
      "cell_type": "markdown",
      "metadata": {
        "id": "ir_VH1IjbEMF"
      },
      "source": [
        "6.Create the array below with\n",
        "                  a = np.arange(-15, 15).reshape(5, 6) ** 2\n",
        "1. The maximum of each row\n",
        "2. The mean of each column\n",
        "3. The position of the overall minimum"
      ]
    },
    {
      "cell_type": "code",
      "execution_count": null,
      "metadata": {
        "id": "XcuNU8TcbEMF"
      },
      "outputs": [],
      "source": [
        "# code here and display all 3 values appropriately. You MUST NOT choose an array of your own choice.\n",
        "row-max=a.max(axis=1)\n",
        "print(row_max)\n",
        "mean=a.mean(axis=0)\n",
        "print(mean)\n",
        "min_postion=np.argmin(a)\n",
        "print(min)\n"
      ]
    },
    {
      "cell_type": "code",
      "source": [],
      "metadata": {
        "id": "FlG-kAkB7cxh"
      },
      "execution_count": null,
      "outputs": []
    },
    {
      "cell_type": "markdown",
      "metadata": {
        "id": "oWtZzrvXjxVl"
      },
      "source": [
        "[link text](https://)# Array Broadcasting\n",
        "NumPy arrays of different dimensionality can be combined in the same expression. Arrays with smaller dimension are broadcasted to match the larger arrays, without copying data.\n",
        "\n",
        "Broadcasting has two rules.\n",
        "\n",
        "RULE 1: PREPEND ONES TO SMALLER ARRAY'S SHAPE\n",
        "\n",
        "RULE 2: DIMENSIONS OF SIZE 1 ARE REPEATED WITHOUT COPYING\n"
      ]
    },
    {
      "cell_type": "code",
      "execution_count": null,
      "metadata": {
        "id": "7vrTvmEWjwtY"
      },
      "outputs": [],
      "source": [
        "#code here # Create 2 arrays A and B with dim (5,4) and (5,) respectively, apply addition and subtraction.\n",
        "A=np.radom.randint(0,10,(5,4))\n",
        "A = np.array([1, 2, 3])       # Shape (3,)\n",
        "B = np.array([[1], [2], [3]])  # Shape (3, 1)\n"
      ]
    },
    {
      "cell_type": "markdown",
      "metadata": {
        "id": "Qp9UkMByj5Il"
      },
      "source": [
        "1.Use reduce() operation on an array to reduec it into a single meaningful value. You. can also use a specific axis to apply reduce operation.\n",
        "\n",
        "2.accumulate() creates a new array containing the intermediate results of the reduce operation at each element in a.\n"
      ]
    },
    {
      "cell_type": "code",
      "execution_count": null,
      "metadata": {
        "id": "nmLsvmTZj626"
      },
      "outputs": [],
      "source": [
        "from itertools import accumulate\n",
        "from functools import reduce\n",
        "# Answer here (use both of these functions on an array of your own choice)\n",
        "from functools import reduce\n",
        "arr=np.array([1,2,3,4,5])\n",
        "reduced_value=reduced(lambda x,y:x+y,arr)\n",
        "accumulate_value=np.accumlate(arr)\n"
      ]
    },
    {
      "cell_type": "markdown",
      "metadata": {
        "id": "bqVyb4DKZmkR"
      },
      "source": [
        "### We will work with the following array:"
      ]
    },
    {
      "cell_type": "code",
      "execution_count": null,
      "metadata": {
        "colab": {
          "base_uri": "https://localhost:8080/"
        },
        "id": "Iz86eeTWZmsK",
        "outputId": "657f8c8d-0a3b-44b8-e0fe-6de9614c11c1"
      },
      "outputs": [
        {
          "data": {
            "text/plain": [
              "array([[ 0,  1,  2,  3,  4],\n",
              "       [ 5,  6,  7,  8,  9],\n",
              "       [10, 11, 12, 13, 14],\n",
              "       [15, 16, 17, 18, 19],\n",
              "       [20, 21, 22, 23, 24]])"
            ]
          },
          "execution_count": 4,
          "metadata": {},
          "output_type": "execute_result"
        }
      ],
      "source": [
        "a = np.arange(25).reshape(5, 5)\n",
        "a\n",
        "#moving forward, you must use this array for the operations"
      ]
    },
    {
      "cell_type": "markdown",
      "metadata": {
        "id": "OdjK0hqobWGp"
      },
      "source": [
        "# Use slicing only to select 3rd and last row along with 2nd and last columns:"
      ]
    },
    {
      "cell_type": "code",
      "execution_count": null,
      "metadata": {
        "id": "-iw2ciaibUHU"
      },
      "outputs": [],
      "source": [
        "# Answer here\n",
        "import numpy as np\n",
        "\n",
        "# Example array\n",
        "arr = np.array([[1,  2,  3,  4],\n",
        "                [5,  6,  7,  8],\n",
        "                [9, 10, 11, 12],\n",
        "                [13, 14, 15, 16]])\n",
        "\n",
        "# Select the 3rd and last rows (rows with indices 2 and -1)\n",
        "# Select the 2nd and last columns (columns with indices 1 and -1)\n",
        "result = arr[[2, -1], :][:, [1, -1]]\n",
        "\n",
        "print(result)\n"
      ]
    },
    {
      "cell_type": "markdown",
      "metadata": {
        "id": "5PtInLvEb7Am"
      },
      "source": [
        "# Extract the following sub-array: [[2, 3], [12, 13], [22, 23]]"
      ]
    },
    {
      "cell_type": "code",
      "execution_count": null,
      "metadata": {
        "id": "lVi9eV2rb6hz"
      },
      "outputs": [],
      "source": [
        "# Answer here\n",
        "import numpy as np\n",
        "\n",
        "# Example larger array (5x5)\n",
        "arr = np.array([[ 0,  1,  2,  3,  4],\n",
        "                [ 5,  6,  7,  8,  9],\n",
        "                [10, 11, 12, 13, 14],\n",
        "                [15, 16, 17, 18, 19],\n",
        "                [20, 21, 22, 23, 24]])\n",
        "\n",
        "# To extract [[2, 3], [12, 13], [22, 23]]\n",
        "# Rows: 0, 2, 4 (row indices 0, 2, 4)\n",
        "# Columns: 2, 3 (column indices 2 and 3)\n",
        "sub_array = arr[[0, 2, 4], 2:4]\n",
        "\n",
        "print(sub_array)\n"
      ]
    },
    {
      "cell_type": "markdown",
      "metadata": {
        "id": "mHN-ADlNcRE7"
      },
      "source": [
        "# Combine fancy/location indexing with slicing to extract the following sub-array: [[6, 8], [16, 18], [21, 23]]"
      ]
    },
    {
      "cell_type": "code",
      "execution_count": null,
      "metadata": {
        "id": "e_R0tbMHcNGy"
      },
      "outputs": [],
      "source": [
        "# Answer here\n",
        "import numpy as np\n",
        "\n",
        "# Example larger array (5x5)\n",
        "arr = np.array([[ 0,  1,  2,  3,  4],\n",
        "                [ 5,  6,  7,  8,  9],\n",
        "                [10, 11, 12, 13, 14],\n",
        "                [15, 16, 17, 18, 19],\n",
        "                [20, 21, 22, 23, 24]])\n",
        "\n",
        "# To extract [[6, 8], [16, 18], [21, 23]]\n",
        "# Rows: 1, 3, 4 (row indices 1, 3, 4)\n",
        "# Columns: 1, 3 (column indices 1 and 3)\n",
        "sub_array = arr[[1, 3, 4], 1:4:2]\n",
        "\n",
        "print(sub_array)\n"
      ]
    },
    {
      "cell_type": "markdown",
      "metadata": {
        "id": "gRle44JLc8oL"
      },
      "source": [
        "# Change the values 1, 10, 19 and 22 in the array to -2"
      ]
    },
    {
      "cell_type": "code",
      "execution_count": null,
      "metadata": {
        "id": "MnIs-SBzdMPv"
      },
      "outputs": [],
      "source": [
        "# Answer\n",
        "import numpy as np\n",
        "\n",
        "# Example array (5x5)\n",
        "arr = np.array([[ 0,  1,  2,  3,  4],\n",
        "                [ 5,  6,  7,  8,  9],\n",
        "                [10, 11, 12, 13, 14],\n",
        "                [15, 16, 17, 18, 19],\n",
        "                [20, 21, 22, 23, 24]])\n",
        "\n",
        "# Indices of values to be changed (1, 10, 19, and 22)\n",
        "# We can locate their positions manually\n",
        "indices = [(0, 1), (2, 0), (3, 4), (4, 2)]\n",
        "\n",
        "# Change these specific elements to -2\n",
        "for index in indices:\n",
        "    arr[index] = -2\n",
        "\n",
        "print(arr)\n"
      ]
    },
    {
      "cell_type": "markdown",
      "metadata": {
        "id": "tWSQO5e3dZxf"
      },
      "source": [
        "# Repeat above using boolean indexing"
      ]
    },
    {
      "cell_type": "code",
      "execution_count": null,
      "metadata": {
        "id": "zytB7nrMdYfT"
      },
      "outputs": [],
      "source": [
        "# Answer here\n",
        "import numpy as np\n",
        "\n",
        "# Example array (5x5)\n",
        "arr = np.array([[ 0,  1,  2,  3,  4],\n",
        "                [ 5,  6,  7,  8,  9],\n",
        "                [10, 11, 12, 13, 14],\n",
        "                [15, 16, 17, 18, 19],\n",
        "                [20, 21, 22, 23, 24]])\n",
        "\n",
        "# Values to be changed: 1, 10, 19, 22\n",
        "values_to_change = [1, 10, 19, 22]\n",
        "\n",
        "# Create a boolean mask for these values\n",
        "mask = np.isin(arr, values_to_change)\n",
        "\n",
        "# Use boolean indexing to change the val\n"
      ]
    },
    {
      "cell_type": "markdown",
      "metadata": {
        "id": "2i_7lkqpdhtx"
      },
      "source": [
        "# Combine slicing in the column dimension and boolean indexing in row dimension to extract the following sub-array: [[0, 3], [10, 13], [15, 18]]"
      ]
    },
    {
      "cell_type": "code",
      "execution_count": null,
      "metadata": {
        "id": "O8683ef2dYng"
      },
      "outputs": [],
      "source": [
        "# Answer here\n",
        "import numpy as np\n",
        "\n",
        "# Example larger array (5x5)\n",
        "arr = np.array([[ 0,  1,  2,  3,  4],\n",
        "                [ 5,  6,  7,  8,  9],\n",
        "                [10, 11, 12, 13, 14],\n",
        "                [15, 16, 17, 18, 19],\n",
        "                [20, 21, 22, 23, 24]])\n",
        "\n",
        "# Create a boolean mask for the rows you want to extract\n",
        "# We want rows: 0, 2, 3 (for values 0, 10, and 15)\n",
        "mask = np.array([True, False, True, True, False])\n",
        "\n",
        "# Slice the columns: We want columns 0 and 3 (for values 0, 3, 10, 13, 15, 18)\n",
        "sub_array = arr[mask, [0, 3]]\n",
        "\n",
        "print(sub_array)\n"
      ]
    },
    {
      "cell_type": "markdown",
      "metadata": {
        "id": "BLH29N-KLDEJ"
      },
      "source": [
        "# Calculating the sum, min and max of all diagonal values\n"
      ]
    },
    {
      "cell_type": "code",
      "execution_count": null,
      "metadata": {
        "id": "ARzj6VP9LCPz"
      },
      "outputs": [],
      "source": [
        "# Answer here\n",
        "import numpy as np\n",
        "\n",
        "# Example array (5x5)\n",
        "arr = np.array([[ 0,  1,  2,  3,  4],\n",
        "                [ 5,  6,  7,  8,  9],\n",
        "                [10, 11, 12, 13, 14],\n",
        "                [15, 16, 17, 18, 19],\n",
        "                [20, 21, 22, 23, 24]])\n",
        "\n",
        "# Extract the diagonal values\n",
        "diagonal_values = np.diagonal(arr)\n",
        "\n",
        "# Calculate sum, min, and max of the diagonal values\n",
        "diagonal_sum = np.sum(diagonal_values)\n",
        "diagonal_min = np.min(diagonal_values)\n",
        "diagonal_max = np.max(diagonal_values)\n",
        "\n",
        "# Print the results\n",
        "print(\"Diagonal values:\", diagonal_values)\n",
        "print(\"Sum of diagonal values:\", diagonal_sum)\n",
        "print(\"Minimum of diagonal values:\", diagonal_min)\n",
        "print(\"Maximum of diagonal values:\", diagonal_max)\n",
        "\n"
      ]
    },
    {
      "cell_type": "markdown",
      "metadata": {
        "id": "IIL3aHfpMQpr"
      },
      "source": [
        "# Calculate the sum of differences between the 2nd row and 2nd last column"
      ]
    },
    {
      "cell_type": "code",
      "execution_count": null,
      "metadata": {
        "id": "mNyxI8d0Mcvz"
      },
      "outputs": [],
      "source": [
        "row_2=a[1,:]\n",
        "col_2_last=a[:,-2]\n",
        "sum-diff=np.sum(row_2-col_2_last)\n",
        "sum_diff"
      ]
    },
    {
      "cell_type": "markdown",
      "metadata": {
        "id": "jEo7E6YNNIU5"
      },
      "source": [
        "# Create a new array that is the sum of even rows and odd rows"
      ]
    },
    {
      "cell_type": "code",
      "execution_count": null,
      "metadata": {
        "id": "UEwbxwAPNikT"
      },
      "outputs": [],
      "source": [
        "even_rows_sum=a[::2].sum(axis=1)\n",
        "print(even_rows_sum)\n",
        "odd_row_sum=a{1::2}.sum(axis=1)"
      ]
    },
    {
      "cell_type": "markdown",
      "metadata": {
        "id": "TaKXFf_5d67q"
      },
      "source": [
        "## You are done. Good job!"
      ]
    }
  ],
  "metadata": {
    "colab": {
      "provenance": []
    },
    "kernelspec": {
      "display_name": "Python 3",
      "name": "python3"
    },
    "language_info": {
      "name": "python"
    }
  },
  "nbformat": 4,
  "nbformat_minor": 0
}