{
  "cells": [
    {
      "cell_type": "markdown",
      "id": "bac7cbe2",
      "metadata": {
        "id": "bac7cbe2"
      },
      "source": [
        "# Problem 1: Reshaping for Image Processing\n",
        "You are working on an image processing project, and you have a grayscale image represented as a 1D NumPy array **img_data** of size **(m * n)**, where m and n are the dimensions of the image. Write a function **reshape_image(img_data, new_shape)** that takes the original image data and a tuple representing the new shape **(p, q)** of the image. Ensure that the total number of pixels remains unchanged. If it's not possible to reshape without changing the total number of pixels, return **None**."
      ]
    },
    {
      "cell_type": "code",
      "execution_count": null,
      "id": "89bf2b86",
      "metadata": {
        "id": "89bf2b86"
      },
      "outputs": [],
      "source": [
        "# Write your function in this cell\n",
        "import numpy as np\n",
        "\n",
        "def reshape_image(img_data, new_shape):\n",
        "\n",
        "    original_size = img_data.size\n",
        "    new_size = new_shape[0] * new_shape[1]\n",
        "\n",
        "    if original_size != new_size:\n",
        "        return None\n",
        "\n",
        "    reshaped_image = img_data.reshape(new_shape)\n",
        "    return reshaped_image\n",
        "\n",
        "img_data = np.arange(12)\n",
        "new_shape = (4, 3)\n",
        "\n",
        "reshaped_img = reshape_image(img_data, new_shape)\n",
        "\n",
        "if reshaped_img is not None:\n",
        "    print(\"Reshaped image:\")\n",
        "    print(reshaped_img)\n",
        "else:\n",
        "    print(\"Reshaping not possible.\")\n"
      ]
    },
    {
      "cell_type": "code",
      "execution_count": null,
      "id": "9a7a3b17",
      "metadata": {
        "id": "9a7a3b17"
      },
      "outputs": [],
      "source": [
        "import numpy as np\n",
        "\n",
        "img_data = np.arange(9)  # Assuming a 3x3 image\n",
        "new_shape = (3, 3)\n",
        "\n",
        "result = reshape_image(img_data, new_shape)\n",
        "print(result)"
      ]
    },
    {
      "cell_type": "markdown",
      "id": "f26eada3",
      "metadata": {
        "id": "f26eada3"
      },
      "source": [
        "# Problem 2: Matrix Transpose\n",
        "You are dealing with a dataset stored as a NumPy array **data_matrix** with dimensions **(m, n)**. Implement a function **transpose_matrix(data_matrix)** that returns the transpose of the given matrix."
      ]
    },
    {
      "cell_type": "code",
      "execution_count": 9,
      "id": "96da3b85",
      "metadata": {
        "id": "96da3b85",
        "colab": {
          "base_uri": "https://localhost:8080/"
        },
        "outputId": "cdde1c7b-382b-46dc-c5f2-5396e6c9d02d"
      },
      "outputs": [
        {
          "output_type": "stream",
          "name": "stdout",
          "text": [
            "[[1 2 3]\n",
            " [4 5 6]]\n",
            "[[1 4]\n",
            " [2 5]\n",
            " [3 6]]\n"
          ]
        }
      ],
      "source": [
        "# Write your function in this cell\n",
        "import numpy as np\n",
        "def transpose_matrix(data_matrix):\n",
        "    return data_matrix.T\n",
        "\n",
        "data_matrix = np.array([[1, 2, 3],\n",
        "                        [4, 5, 6]])\n",
        "print(data_matrix)\n",
        "transposed_matrix = transpose_matrix(data_matrix)\n",
        "print(transposed_matrix)\n",
        "\n"
      ]
    },
    {
      "cell_type": "code",
      "execution_count": null,
      "id": "ae176a7e",
      "metadata": {
        "id": "ae176a7e"
      },
      "outputs": [],
      "source": [
        "import numpy as np\n",
        "\n",
        "data_matrix = np.array([[1, 2, 3], [4, 5, 6]])\n",
        "transposed_matrix = transpose_matrix(data_matrix)\n",
        "\n",
        "print(transposed_matrix)"
      ]
    },
    {
      "cell_type": "markdown",
      "id": "60caff17",
      "metadata": {
        "id": "60caff17"
      },
      "source": [
        "# Problem 3: Flattening for Data Processing\n",
        "You have a 2D array representing data from different sensors. Write a function **flatten_sensor_data(sensor_data)** that takes a 2D NumPy array representing the sensor readings and returns a flattened 1D array.\n"
      ]
    },
    {
      "cell_type": "code",
      "execution_count": null,
      "id": "2070bb01",
      "metadata": {
        "id": "2070bb01"
      },
      "outputs": [],
      "source": [
        "# Write your function in this cell\n",
        "import numpy a np\n",
        "def flatten_sensor_data(sensor_data):\n",
        "    return sensor_data.flatten()\n",
        "sensor_data = np.array([[10, 20, 30],\n",
        "                        [40, 50, 60],\n",
        "                        [70, 80, 90]])\n",
        "\n",
        "flattened_data = flatten_sensor_data(sensor_data)\n",
        "print(flattened_data)\n",
        "\n",
        "\n",
        "\n"
      ]
    },
    {
      "cell_type": "code",
      "execution_count": 7,
      "id": "ddb929ee",
      "metadata": {
        "id": "ddb929ee",
        "colab": {
          "base_uri": "https://localhost:8080/",
          "height": 240
        },
        "outputId": "b5c13d31-518e-4a90-d567-f322aeec8b35"
      },
      "outputs": [
        {
          "output_type": "stream",
          "name": "stdout",
          "text": [
            "[[10 20 30]\n",
            " [40 50 60]]\n"
          ]
        },
        {
          "output_type": "error",
          "ename": "NameError",
          "evalue": "name 'flatten_data' is not defined",
          "traceback": [
            "\u001b[0;31m---------------------------------------------------------------------------\u001b[0m",
            "\u001b[0;31mNameError\u001b[0m                                 Traceback (most recent call last)",
            "\u001b[0;32m<ipython-input-7-bb4f9e8da998>\u001b[0m in \u001b[0;36m<cell line: 5>\u001b[0;34m()\u001b[0m\n\u001b[1;32m      3\u001b[0m \u001b[0msensor_data\u001b[0m \u001b[0;34m=\u001b[0m \u001b[0mnp\u001b[0m\u001b[0;34m.\u001b[0m\u001b[0marray\u001b[0m\u001b[0;34m(\u001b[0m\u001b[0;34m[\u001b[0m\u001b[0;34m[\u001b[0m\u001b[0;36m10\u001b[0m\u001b[0;34m,\u001b[0m \u001b[0;36m20\u001b[0m\u001b[0;34m,\u001b[0m \u001b[0;36m30\u001b[0m\u001b[0;34m]\u001b[0m\u001b[0;34m,\u001b[0m \u001b[0;34m[\u001b[0m\u001b[0;36m40\u001b[0m\u001b[0;34m,\u001b[0m \u001b[0;36m50\u001b[0m\u001b[0;34m,\u001b[0m \u001b[0;36m60\u001b[0m\u001b[0;34m]\u001b[0m\u001b[0;34m]\u001b[0m\u001b[0;34m)\u001b[0m\u001b[0;34m\u001b[0m\u001b[0;34m\u001b[0m\u001b[0m\n\u001b[1;32m      4\u001b[0m \u001b[0mprint\u001b[0m\u001b[0;34m(\u001b[0m\u001b[0msensor_data\u001b[0m\u001b[0;34m)\u001b[0m\u001b[0;34m\u001b[0m\u001b[0;34m\u001b[0m\u001b[0m\n\u001b[0;32m----> 5\u001b[0;31m \u001b[0mflattened_data\u001b[0m \u001b[0;34m=\u001b[0m \u001b[0mflatten_data\u001b[0m\u001b[0;34m(\u001b[0m\u001b[0msensor_data\u001b[0m\u001b[0;34m)\u001b[0m\u001b[0;34m\u001b[0m\u001b[0;34m\u001b[0m\u001b[0m\n\u001b[0m\u001b[1;32m      6\u001b[0m \u001b[0mprint\u001b[0m\u001b[0;34m(\u001b[0m\u001b[0mflattened_data\u001b[0m\u001b[0;34m)\u001b[0m\u001b[0;34m\u001b[0m\u001b[0;34m\u001b[0m\u001b[0m\n",
            "\u001b[0;31mNameError\u001b[0m: name 'flatten_data' is not defined"
          ]
        }
      ],
      "source": [
        "import numpy as np\n",
        "sensor_data = np.array([[10, 20, 30], [40, 50, 60]])\n",
        "flattened_data = flatten_sensor_data(sensor_data)\n",
        "print(flattened_data)\n",
        "\n",
        "\n"
      ]
    }
  ],
  "metadata": {
    "kernelspec": {
      "display_name": "Python 3 (ipykernel)",
      "language": "python",
      "name": "python3"
    },
    "language_info": {
      "codemirror_mode": {
        "name": "ipython",
        "version": 3
      },
      "file_extension": ".py",
      "mimetype": "text/x-python",
      "name": "python",
      "nbconvert_exporter": "python",
      "pygments_lexer": "ipython3",
      "version": "3.11.5"
    },
    "colab": {
      "provenance": []
    }
  },
  "nbformat": 4,
  "nbformat_minor": 5
}