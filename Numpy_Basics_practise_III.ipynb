{
  "nbformat": 4,
  "nbformat_minor": 0,
  "metadata": {
    "colab": {
      "provenance": []
    },
    "kernelspec": {
      "name": "python3",
      "display_name": "Python 3"
    },
    "language_info": {
      "name": "python"
    }
  },
  "cells": [
    {
      "cell_type": "code",
      "execution_count": null,
      "metadata": {
        "id": "qQxFQvrEEKqm"
      },
      "outputs": [],
      "source": [
        "import numpy as np"
      ]
    },
    {
      "cell_type": "code",
      "source": [
        "from google.colab import drive\n",
        "drive.mount('/content/drive')"
      ],
      "metadata": {
        "colab": {
          "base_uri": "https://localhost:8080/"
        },
        "id": "n_ncJAFDEbs1",
        "outputId": "a09be9aa-5efa-45c6-b212-e9ebec9db71a"
      },
      "execution_count": null,
      "outputs": [
        {
          "output_type": "stream",
          "name": "stdout",
          "text": [
            "Mounted at /content/drive\n"
          ]
        }
      ]
    },
    {
      "cell_type": "markdown",
      "source": [
        "# Q.1\n",
        "**Statement:** You are working with a retail store that needs to manage its inventory efficiently. They have provided you with a dataset containing information about products, their quantities in stock, and the number of units sold daily for the past week. Total number of products are 5. Your task is to calculate the following:\n",
        "\n",
        "\n",
        "\n",
        "1.The total sales for each product over the past week.\n",
        "\n",
        "2.The average daily sales for each product.\n",
        "\n",
        "3.The product with the highest sales.\n",
        "\n",
        "4.The product with the lowest sales.\n",
        "\n",
        "5.The total sales for all products combined.\n",
        "\n",
        "You are required to use NumPy for efficient data processing and calculations. Write code to solve this inventory management problem."
      ],
      "metadata": {
        "id": "5dL78wl-ElhS"
      }
    },
    {
      "cell_type": "code",
      "source": [
        "import numpy as np\n",
        "\n",
        "# Sample data (replace with your actual data)\n",
        "product_names = np.array(['Product A', 'Product B', 'Product C', 'Product D', 'Product E'])\n",
        "quantities_in_stock = np.array([100, 150, 200, 250, 50])\n",
        "\n",
        "daily_sales_data = np.array([[10, 15, 20, 25, 30, 35, 40],\n",
        "                             [5, 7, 8, 10, 12, 14, 16],\n",
        "                             [15, 20, 25, 30, 35, 40, 40],\n",
        "                             [12, 25, 20, 40, 20, 32, 55],\n",
        "                             [15, 20, 25, 30, 35, 40, 45]])\n",
        "\n",
        "# Calculate total sales revenue for each product over the past week\n",
        "total_sales_revenue=np.sum(daily_sales_data,axis=1)\n",
        "print(total_sales_revenue)\n",
        "\n",
        "# Calculate average daily sales for each product\n",
        "average_sale_revenue=np.mean(daily_sales_data,axis=1)\n",
        "average_sale_revenue\n",
        "\n",
        "# Find the product with the highest and lowest sales\n",
        "product_with_highest_sale=np.argmax(total_sales_revenue)+1\n",
        "product_with_highest_sale\n",
        "\n",
        "\n",
        "# Calculate the total sales revenue for all products combined\n",
        "total_sale=np.sum(total_sales_revenue)\n",
        "total_sale\n"
      ],
      "metadata": {
        "id": "DxtXsLXRVpdW",
        "colab": {
          "base_uri": "https://localhost:8080/"
        },
        "outputId": "0c3972ac-2650-4487-ef68-0bb5d8eb83bf"
      },
      "execution_count": null,
      "outputs": [
        {
          "output_type": "stream",
          "name": "stdout",
          "text": [
            "[175  72 205 204 210]\n"
          ]
        },
        {
          "output_type": "execute_result",
          "data": {
            "text/plain": [
              "866"
            ]
          },
          "metadata": {},
          "execution_count": 9
        }
      ]
    },
    {
      "cell_type": "markdown",
      "source": [
        "# Q.2\n",
        "**Statement:** Statement: You are working with a manufacturing plant that produces various components. They have provided you with data on the production rates of five different machines over the past month. Your task is to analyze the performance of these machines by calculating the following metrics:\n",
        "\n",
        "1.The total production output for each machine over the past month.\n",
        "\n",
        "2.The average daily production rate for each machine.\n",
        "\n",
        "3.The machine with the highest total production output.\n",
        "\n",
        "4.The machine with the lowest total production output.\n",
        "\n",
        "The overall production efficiency of the plant, which is defined as the ratio of the total production output to the total number of hours worked, and working hour for each day is 2 hours.\n"
      ],
      "metadata": {
        "id": "ICk1qoQHVwDc"
      }
    },
    {
      "cell_type": "code",
      "source": [
        "# Sample data (replace with your actual data)\n",
        "\n",
        "np.random.seed(42)  # For reproducibility\n",
        "machines = np.array(['Machine A', 'Machine B', 'Machine C', 'Machine D', 'Machine E'])\n",
        "days = 30\n",
        "\n",
        "# Generate random production rates between 100 and 200 for 5 machines and 30 days\n",
        "production_rates = np.random.randint(100, 201, size=(5, days))\n",
        "\n",
        "# 1. Calculate total production output for each machine over the past month\n",
        "total_production_output = np.sum(production_rates, axis=1)\n",
        "\n",
        "# 2. Calculate average daily production rate for each machine\n",
        "average_daily_production = np.mean(production_rates, axis=1)\n",
        "\n",
        "# 3. Find the machine with the highest total production output\n",
        "highest_output_index = np.argmax(total_production_output)\n",
        "highest_output_machine = machines[highest_output_index]\n",
        "\n",
        "# 4. Find the machine with the lowest total production output\n",
        "lowest_output_index = np.argmin(total_production_output)\n",
        "lowest_output_machine = machines[lowest_output_index]\n",
        "\n",
        "# 5. Calculate the overall production efficiency of the plant\n",
        "total_hours_worked = days * 2  # 2 hours per day\n",
        "overall_production_efficiency = np.sum(total_production_output) / total_hours_worked\n",
        "\n",
        "# Output results\n",
        "for i in range(len(machines)):\n",
        "    print( {machines[i]})\n",
        "    print( {total_production_output[i]})\n",
        "\n",
        "print( {highest_output_machine})\n",
        "print( {lowest_output_machine})\n",
        "\n",
        "\n",
        "\n",
        "\n"
      ],
      "metadata": {
        "id": "lIu6pfmgbUQd",
        "colab": {
          "base_uri": "https://localhost:8080/"
        },
        "outputId": "0b2e382d-bdb6-485c-d5d4-6cb148137fed"
      },
      "execution_count": null,
      "outputs": [
        {
          "output_type": "stream",
          "name": "stdout",
          "text": [
            "{'Machine A'}\n",
            "{4526}\n",
            "{'Machine B'}\n",
            "{4446}\n",
            "{'Machine C'}\n",
            "{4515}\n",
            "{'Machine D'}\n",
            "{4535}\n",
            "{'Machine E'}\n",
            "{4390}\n",
            "{'Machine D'}\n",
            "{'Machine E'}\n"
          ]
        }
      ]
    },
    {
      "cell_type": "code",
      "source": [],
      "metadata": {
        "id": "mtFdE3lp471m"
      },
      "execution_count": null,
      "outputs": []
    },
    {
      "cell_type": "markdown",
      "source": [
        "# Q3:\n",
        "\n",
        "**Statment**\n",
        "You are working on a project that involves simulating sensor data for a network of 10 sensors over a period of 15 days. Each sensor collects data once per hour. Your task is to generate a NumPy array named sensor_data to represent this simulated sensor data and perform following statistical analysis on it.\n",
        "\n",
        "Populate the sensor_data array with random floating-point values between 0.0 and 100.0\n",
        "The generated values should represent sensor readings collected once per hour.\n",
        "\n",
        "After generating the sensor_data array, perform the following statistical **calculations:**\n",
        "\n",
        "1.Calculate the mean (average) sensor reading for each sensor over the 15 days.\n",
        "\n",
        "2.Calculate the standard deviation of sensor readings for each sensor.\n",
        "\n",
        "3.Calculate the maximum sensor reading for each sensor.\n",
        "\n",
        "4.Calculate the minimum sensor reading for each sensor.\n",
        "\n",
        "5.Calculate the overall mean sensor reading for all sensors and all days.\n",
        "\n",
        "6.Calculate the overall standard deviation of sensor readings for all sensors an"
      ],
      "metadata": {
        "id": "Ayc9TG-vff7A"
      }
    },
    {
      "cell_type": "code",
      "source": [
        "import numpy as np\n",
        "\n",
        "# 1. Generate sensor data\n",
        "# Shape: 10 sensors, 15 days, 24 hours/day => (10, 15*24) = (10, 360)\n",
        "sensor_data = np.random.uniform(low=0.0, high=100.0, size=(10, 15*24))\n",
        "\n",
        "# 2.1 Calculate the mean (average) sensor reading for each sensor over 15 days\n",
        "mean_per_sensor = np.mean(sensor_data, axis=1)\n",
        "print(mean_per_sensor)\n",
        "\n",
        "# 2.2 Calculate the standard deviation of sensor readings for each sensor\n",
        "std_per_sensor = np.std(sensor_data, axis=1)\n",
        "print(std_per_sensor)\n",
        "\n",
        "# 2.3 Calculate the maximum sensor reading for each sensor\n",
        "max_per_sensor = np.max(sensor_data, axis=1)\n",
        "print(max_per_sensor)\n",
        "\n",
        "# 2.4 Calculate the minimum sensor reading for each sensor\n",
        "min_per_sensor = np.min(sensor_data, axis=1)\n",
        "print(min_per_sensor)\n",
        "\n",
        "# 2.5 Calculate the overall mean sensor reading for all sensors and all days\n",
        "overall_mean = np.mean(sensor_data)\n",
        "print(overall_mean)\n",
        "\n",
        "# 2.6 Calculate the overall standard deviation of sensor readings for all sensors\n",
        "overall_std = np.std(sensor_data)\n",
        "print(overall_std)\n",
        "\n",
        "\n",
        "\n",
        "\n",
        "\n",
        "\n",
        "\n",
        "\n",
        "\n",
        "\n",
        "\n",
        "\n",
        "\n",
        "\n",
        "\n",
        "\n"
      ],
      "metadata": {
        "id": "TWSK9GA1gfz0"
      },
      "execution_count": null,
      "outputs": []
    },
    {
      "cell_type": "markdown",
      "source": [
        "# Q4:\n",
        "\n",
        "**Statement**: You are tasked with analyzing the exam scores of 30 students in a class over a period of 10 exams. The exam scores are represented as a NumPy, where each row corresponds to a different student, and each column represents their score in a specific exam.\n",
        "\n",
        "\n",
        "After generating the exam_scores array, perform the following tasks:\n",
        "\n",
        "1.Calculate the average score for each student over the 10 exams.\n",
        "\n",
        "2.Calculate the standard deviation of scores for each student.\n",
        "\n",
        "3.Identify students who have consistently performed well, defined as those whose average score is above 85.\n",
        "\n",
        "4.Identify students who may need additional support, defined as those whose average score is below 50.\n",
        "\n",
        "Write code to create and populate the exam_scores array and then perform the specified statistical analysis and performance evaluation tasks on the data.\n",
        "\n",
        "\n",
        "\n",
        "Populate the exam_scores array with random integer values between 50 and 100 to simulate students' exam performance.\n"
      ],
      "metadata": {
        "id": "IShr0NSyhcEc"
      }
    },
    {
      "cell_type": "code",
      "source": [
        "import numpy as np\n",
        "\n",
        "# Create the exam_scores array (30 students, 10 exams)\n",
        "num_students = 30\n",
        "num_exams = 10\n",
        "\n",
        "# Populate the exam_scores array with random scores between 50 and 100\n",
        "exam_scores=np.radom.randint(50,101,(30,10))\n",
        "print(exam_scores)\n",
        "\n",
        "\n",
        "# 1. Calculate the average score for each student over the 10 exams\n",
        "average_score=np.mean(exam_scores,axis=1)\n",
        "print(average_score)\n",
        "\n",
        "# 2. Calculate the standard deviation of scores for each student\n",
        "std_devition=np.std(exam_scores,axis=1)\n",
        "print(std_devition)\n",
        "\n",
        "# 3. Identify students who have consistently performed well (average score > 85)\n",
        "well_performing_students=np.where(average_score>85)[0]\n",
        "print(well_performing_students)\n",
        "\n",
        "# 4. Identify students who may need additional support (average score < 60)\n",
        "students_needing_support=np.where(average_scores<60)[0]\n",
        "print(students_needing_support)\n",
        "\n"
      ],
      "metadata": {
        "id": "F3p_SMeoiT2o"
      },
      "execution_count": null,
      "outputs": []
    }
  ]
}