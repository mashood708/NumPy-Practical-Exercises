{
  "cells": [
    {
      "cell_type": "code",
      "execution_count": null,
      "id": "2a8a0fa8-ceee-4b65-9739-39bdbf33d23c",
      "metadata": {
        "id": "2a8a0fa8-ceee-4b65-9739-39bdbf33d23c"
      },
      "outputs": [],
      "source": [
        "import numpy as np"
      ]
    },
    {
      "cell_type": "markdown",
      "id": "6cd94836-36bf-4eca-a68c-4d4afb52ef7d",
      "metadata": {
        "id": "6cd94836-36bf-4eca-a68c-4d4afb52ef7d"
      },
      "source": [
        "# Q1"
      ]
    },
    {
      "cell_type": "markdown",
      "id": "26a82645-942a-40ba-9d5b-a58c65d27817",
      "metadata": {
        "id": "26a82645-942a-40ba-9d5b-a58c65d27817"
      },
      "source": [
        "\\Statement: Given a 3D NumPy array arr of shape (2, 3, 4), write a code snippet to calculate the sum of all elements in the array.\n",
        "\n",
        "Sample Input:"
      ]
    },
    {
      "cell_type": "code",
      "execution_count": null,
      "id": "dbf71bf2-1ac9-48f3-96fb-5f22ad767b29",
      "metadata": {
        "id": "dbf71bf2-1ac9-48f3-96fb-5f22ad767b29"
      },
      "outputs": [],
      "source": [
        "# Answer Here\n",
        "import numpy as np\n",
        "\n",
        "# Create a sample 3D NumPy array with shape (2, 3, 4)\n",
        "arr = np.array([[[ 1,  2,  3,  4],\n",
        "                  [ 5,  6,  7,  8],\n",
        "                  [ 9, 10, 11, 12]],\n",
        "\n",
        "                 [[13, 14, 15, 16],\n",
        "                  [17, 18, 19, 20],\n",
        "                  [21, 22, 23, 24]]])\n",
        "\n",
        "# Calculate the sum of all elements in the array\n",
        "total_sum = np.sum(arr)\n",
        "\n",
        "# Print the result\n",
        "print( total_sum)\n"
      ]
    },
    {
      "cell_type": "markdown",
      "id": "14bd52a2-86d8-4ef6-b1ee-de66e9703458",
      "metadata": {
        "id": "14bd52a2-86d8-4ef6-b1ee-de66e9703458"
      },
      "source": [
        "# Q2"
      ]
    },
    {
      "cell_type": "markdown",
      "id": "9a536e77-25c6-4b63-906b-7aa8eaaa073e",
      "metadata": {
        "id": "9a536e77-25c6-4b63-906b-7aa8eaaa073e"
      },
      "source": [
        "Statement: Write a NumPy code snippet to create a 4D array arr of shape (2, 3, 4, 5) filled with random integers ranging from 0 to 9.\n",
        "\n",
        "Sample Output:"
      ]
    },
    {
      "cell_type": "code",
      "execution_count": null,
      "id": "5602b3f2-13e2-4585-9870-9bc07563c60e",
      "metadata": {
        "id": "5602b3f2-13e2-4585-9870-9bc07563c60e"
      },
      "outputs": [],
      "source": [
        "# Answer Here\n",
        "import numpy as np\n",
        "\n",
        "# Create a 4D array of shape (2, 3, 4, 5) with random integers from 0 to 9\n",
        "arr = np.random.randint(0, 10, size=(2, 3, 4, 5))\n",
        "print(arr)\n",
        "\n"
      ]
    },
    {
      "cell_type": "markdown",
      "id": "540f8d57-6cc0-4e53-8744-787e868276a4",
      "metadata": {
        "id": "540f8d57-6cc0-4e53-8744-787e868276a4"
      },
      "source": [
        "# Q3"
      ]
    },
    {
      "cell_type": "markdown",
      "id": "37497bad-10e3-4c65-b4f6-65bb5ed0b00d",
      "metadata": {
        "id": "37497bad-10e3-4c65-b4f6-65bb5ed0b00d"
      },
      "source": [
        "\n",
        "\n",
        "Statement: Given a 4D NumPy array arr of shape (2, 3, 4, 5), write a code snippet to calculate the mean along the second axis.\n",
        "\n",
        "Sample Input:\n",
        "\n",
        "\n",
        "\n"
      ]
    },
    {
      "cell_type": "code",
      "execution_count": null,
      "id": "84df3761-5341-4010-b541-6a79a1b74625",
      "metadata": {
        "id": "84df3761-5341-4010-b541-6a79a1b74625"
      },
      "outputs": [],
      "source": [
        "# Answer Here\n",
        "import numpy as np\n",
        "\n",
        "# Create a sample 4D NumPy array of shape (2, 3, 4, 5) with random integers from 0 to 9\n",
        "arr = np.random.randint(0, 10, size=(2, 3, 4, 5))\n",
        "\n",
        "# Print the original array\n",
        "print(arr)\n",
        "\n",
        "# Calculate the mean along the second axis (axis 1)\n",
        "mean_along_axis_1 = np.mean(arr, axis=1)\n",
        "\n",
        "# Print the mean result\n",
        "print(mean_along_axis_1)\n",
        "\n"
      ]
    },
    {
      "cell_type": "markdown",
      "id": "9d4cd387-ca18-4951-a1ab-63a7a1f80a0d",
      "metadata": {
        "id": "9d4cd387-ca18-4951-a1ab-63a7a1f80a0d"
      },
      "source": [
        "# Q4"
      ]
    },
    {
      "cell_type": "markdown",
      "id": "768891f0-dd85-4a6b-a336-31061a30945f",
      "metadata": {
        "id": "768891f0-dd85-4a6b-a336-31061a30945f"
      },
      "source": [
        "Statement: You have collected data from a temperature sensor placed at different locations over a period of time. The recorded temperatures are stored in a 3D NumPy array temps of shape (7, 24, 60), where the dimensions represent the number of days, hours in a day, and minutes in an hour, respectively. Write a code snippet to calculate the average temperature for each day.\n",
        "\n",
        "Sample Input:"
      ]
    },
    {
      "cell_type": "code",
      "execution_count": null,
      "id": "905df96f-ee7f-410f-adae-88758871af96",
      "metadata": {
        "id": "905df96f-ee7f-410f-adae-88758871af96"
      },
      "outputs": [],
      "source": [
        "\n",
        "# Answer Here\n",
        "import numpy as np\n",
        "\n",
        "# Create a sample 3D NumPy array with shape (7, 24, 60) filled with random temperature values\n",
        "# For example, temperatures ranging from 0 to 30 degrees Celsius\n",
        "temps = np.random.uniform(0, 30, size=(7, 24, 60))\n",
        "\n",
        "# Print the original temperature array shape\n",
        "print( temps.shape)\n",
        "\n",
        "# Calculate the average temperature for each day\n",
        "# Average over the hours (axis 1) and minutes (axis 2)\n",
        "average_daily_temps = np.mean(temps, axis=(1, 2))\n",
        "\n",
        "# Print the average temperature for each day\n",
        "print(average_daily_temps)\n"
      ]
    },
    {
      "cell_type": "markdown",
      "id": "f8913844-39a1-4d9b-a434-7af478336f20",
      "metadata": {
        "id": "f8913844-39a1-4d9b-a434-7af478336f20"
      },
      "source": [
        "Sample Output:\n",
        "\n",
        "array([27.43864059, 26.99643944, 27.10398301, 27.43854821, 26.81072977,\n",
        "       26.76581481, 27.07946152])"
      ]
    },
    {
      "cell_type": "markdown",
      "id": "55a224ca-01c9-4b13-8bc9-1db7269a35d5",
      "metadata": {
        "id": "55a224ca-01c9-4b13-8bc9-1db7269a35d5"
      },
      "source": [
        "# Q5"
      ]
    },
    {
      "cell_type": "markdown",
      "id": "af5efd9b-ff4f-4ae1-af9a-da9bf621d3bd",
      "metadata": {
        "id": "af5efd9b-ff4f-4ae1-af9a-da9bf621d3bd"
      },
      "source": [
        "Statement: You have collected data from multiple sensors placed in different rooms of a building. The sensor readings are stored in a 4D NumPy array readings of shape (4, 7, 24, 60), where the dimensions represent the number of sensors, number of days, hours in a day, and minutes in an hour, respectively. Write a code snippet to calculate the maximum reading for each sensor across all days.\n"
      ]
    },
    {
      "cell_type": "code",
      "execution_count": null,
      "id": "79873e69-35ad-4bde-ba48-cf33218b1dc2",
      "metadata": {
        "id": "79873e69-35ad-4bde-ba48-cf33218b1dc2"
      },
      "outputs": [],
      "source": [
        "# Answer Here\n",
        "import numpy as np\n",
        "\n",
        "# Create a sample 4D NumPy array with shape (4, 7, 24, 60) filled with random sensor readings\n",
        "# For example, sensor readings ranging from 0 to 100\n",
        "readings = np.random.uniform(0, 100, size=(4, 7, 24, 60))\n",
        "\n",
        "# Print the original readings array shape\n",
        "print( readings.shape)\n",
        "\n",
        "# Calculate the maximum reading for each sensor across all days\n",
        "# Maximum across the days (axis 1), hours (axis 2), and minutes (axis 3)\n",
        "max_readings_per_sensor = np.max(readings, axis=(1, 2, 3))\n",
        "\n",
        "# Print the maximum reading for each sensor\n",
        "print(Maximum)\n"
      ]
    },
    {
      "cell_type": "markdown",
      "id": "e8ca2836-0977-4b11-a214-a93630131927",
      "metadata": {
        "id": "e8ca2836-0977-4b11-a214-a93630131927"
      },
      "source": [
        "# Q6"
      ]
    },
    {
      "cell_type": "markdown",
      "id": "b324cb33-b481-4cf8-a148-9292ec382a8c",
      "metadata": {
        "id": "b324cb33-b481-4cf8-a148-9292ec382a8c"
      },
      "source": [
        "Statement: You have collected data from a 3D printer that measures the dimensions of printed objects. The recorded dimensions are stored in a 3D NumPy array dimensions of shape (100, 50, 3), where the dimensions represent the number of printed objects, number of measurements for each object, and the three dimensions (length, width, height), respectively. Write a code snippet to calculate the average length, width, and height across all objects.\n",
        "\n",
        "Sample Inpumt:"
      ]
    },
    {
      "cell_type": "code",
      "execution_count": null,
      "id": "d1199cf1-5f47-45f5-a090-615021490d8e",
      "metadata": {
        "id": "d1199cf1-5f47-45f5-a090-615021490d8e"
      },
      "outputs": [],
      "source": [
        "# Answer Here\n",
        "import numpy as np\n",
        "\n",
        "# Create a sample 3D NumPy array with shape (100, 50, 3) filled with random dimensions\n",
        "# For example, random dimensions ranging from 1 to 100 units\n",
        "dimensions = np.random.uniform(1, 100, size=(100, 50, 3))\n",
        "\n",
        "# Print the original dimensions array shape\n",
        "print( dimensions.shape)\n",
        "\n",
        "# Calculate the average length, width, and height across all objects\n",
        "# Average over the number of measurements (axis 1)\n",
        "average_dimensions = np.mean(dimensions, axis=(0, 1))\n",
        "\n",
        "# Print the average length, width, and height\n",
        "print( average_dimensions[0])\n",
        "print( average_dimensions[1])\n",
        "print( average_dimensions[2])\n",
        "\n",
        "\n"
      ]
    },
    {
      "cell_type": "markdown",
      "id": "a3c20cfa-7ad6-437b-8837-1eabded47ac7",
      "metadata": {
        "id": "a3c20cfa-7ad6-437b-8837-1eabded47ac7"
      },
      "source": [
        "# Q7"
      ]
    },
    {
      "cell_type": "markdown",
      "id": "c5c5e835-2d6d-4bec-a700-4125e2ea7375",
      "metadata": {
        "id": "c5c5e835-2d6d-4bec-a700-4125e2ea7375"
      },
      "source": [
        "Statement: You are given a 3D NumPy array data of shape (5, 6, 7) representing the sensor readings from multiple sensors placed in different locations over a period of time. Each sensor provides measurements at different time points. Write a code snippet to calculate the following statistics for each sensor:\n",
        "\n",
        "Total number of measurements\n",
        "\n",
        "Average measurement value\n",
        "\n",
        "Standard deviation of measurements\n",
        "\n",
        "Minimum measurement value\n",
        "\n",
        "Maximum measurement value\n",
        "\n",
        "Sample Input:\n"
      ]
    },
    {
      "cell_type": "code",
      "execution_count": null,
      "id": "46256376-8395-460c-a736-71a83252e47f",
      "metadata": {
        "id": "46256376-8395-460c-a736-71a83252e47f"
      },
      "outputs": [],
      "source": [
        "# Answer Here\n",
        "import numpy as np\n",
        "\n",
        "# Create a sample 3D NumPy array with shape (5, 6, 7) filled with random sensor readings\n",
        "# For example, sensor readings ranging from 0 to 100\n",
        "data = np.random.uniform(0, 100, size=(5, 6, 7))\n",
        "\n",
        "# Print the original data array shape\n",
        "print( data.shape)\n",
        "\n",
        "# Initialize lists to store statistics for each sensor\n",
        "total_measurements = np.prod(data.shape[1:])  # Total measurements per sensor\n",
        "average_values = np.mean(data, axis=(1, 2))    # Average measurement value for each sensor\n",
        "std_dev_values = np.std(data, axis=(1, 2))      # Standard deviation for each sensor\n",
        "min_values = np.min(data, axis=(1, 2))          # Minimum value for each sensor\n",
        "max_values = np.max(data, axis=(1, 2))          # Maximum value for each sensor\n",
        "\n",
        "# Print the statistics for each sensor\n",
        "for i in range(data.shape[0]):  # Loop through each sensor\n",
        "    print( {i + 1}:)\n",
        "    print( {total_measurements})\n",
        "    print(f {average_values[i]:.2f})\n",
        "    print( {std_dev_values[i]:.2f})\n",
        "    print( {min_values[i]:.2f})\n",
        "    print( {max_values[i]:.2f})\n",
        "\n"
      ]
    },
    {
      "cell_type": "code",
      "execution_count": null,
      "id": "87f085a1-fec3-40e5-90db-d535c0de01c0",
      "metadata": {
        "id": "87f085a1-fec3-40e5-90db-d535c0de01c0"
      },
      "outputs": [],
      "source": []
    }
  ],
  "metadata": {
    "kernelspec": {
      "display_name": "Python 3 (ipykernel)",
      "language": "python",
      "name": "python3"
    },
    "language_info": {
      "codemirror_mode": {
        "name": "ipython",
        "version": 3
      },
      "file_extension": ".py",
      "mimetype": "text/x-python",
      "name": "python",
      "nbconvert_exporter": "python",
      "pygments_lexer": "ipython3",
      "version": "3.10.8"
    },
    "colab": {
      "provenance": []
    }
  },
  "nbformat": 4,
  "nbformat_minor": 5
}